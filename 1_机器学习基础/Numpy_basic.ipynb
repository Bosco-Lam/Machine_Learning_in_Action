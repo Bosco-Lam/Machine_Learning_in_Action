{
 "cells": [
  {
   "cell_type": "code",
   "execution_count": 1,
   "metadata": {},
   "outputs": [
    {
     "data": {
      "text/plain": [
       "matrix([[ 0.00000000e+00, -1.85795848e-16,  2.04679637e-16,\n",
       "         -1.75290209e-16],\n",
       "        [-5.18023191e-17, -1.11022302e-16, -7.49080482e-17,\n",
       "          8.74585172e-18],\n",
       "        [ 8.89812562e-17, -2.04438054e-17,  0.00000000e+00,\n",
       "          1.93268763e-17],\n",
       "        [ 6.31615884e-17, -1.56481293e-16,  2.68372172e-16,\n",
       "         -1.11022302e-16]])"
      ]
     },
     "execution_count": 1,
     "metadata": {},
     "output_type": "execute_result"
    }
   ],
   "source": [
    "import numpy as np\n",
    "\n",
    "# create array\n",
    "array = np.random.rand(4,4)\n",
    "\n",
    "# array turn into matrix\n",
    "randMat = np.mat(array)\n",
    "\n",
    "# inverse matrix \n",
    "invRandMat = randMat.I\n",
    "\n",
    "# eye(4) create 4X4 Unit matrix\n",
    "myEye = randMat * invRandMat\n",
    "\n",
    "myEye - np.eye(4)"
   ]
  }
 ],
 "metadata": {
  "kernelspec": {
   "display_name": "Python 3",
   "language": "python",
   "name": "python3"
  },
  "language_info": {
   "codemirror_mode": {
    "name": "ipython",
    "version": 3
   },
   "file_extension": ".py",
   "mimetype": "text/x-python",
   "name": "python",
   "nbconvert_exporter": "python",
   "pygments_lexer": "ipython3",
   "version": "3.6.4"
  }
 },
 "nbformat": 4,
 "nbformat_minor": 2
}
